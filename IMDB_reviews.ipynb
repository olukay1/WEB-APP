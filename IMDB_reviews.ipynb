{
 "cells": [
  {
   "cell_type": "code",
   "execution_count": 1,
   "metadata": {},
   "outputs": [],
   "source": [
    "#Import required libraries\n",
    "from bs4 import BeautifulSoup as bs\n",
    "import requests\n",
    "import re\n",
    "import pandas as pd\n",
    "from time import sleep\n",
    "import numpy as np\n",
    "import random"
   ]
  },
  {
   "cell_type": "code",
   "execution_count": 137,
   "metadata": {},
   "outputs": [],
   "source": [
    "# This function loads the key in our text file as list\n",
    "\n",
    "def get_keys ():\n",
    "    f = open(\"IMDB_key_a.txt\", \"r\")\n",
    "    key = f.read()\n",
    "    f.close()\n",
    "    items = key.split(',')\n",
    "    return items\n",
    "\n",
    "    \n",
    "    "
   ]
  },
  {
   "cell_type": "code",
   "execution_count": 128,
   "metadata": {},
   "outputs": [],
   "source": [
    "#Grab user movie title to search for\n",
    "\n",
    "def join_string(string):\n",
    "    \n",
    "    #string = input ('Enter the movie name here: ')\n",
    "    user_query =string.split(' ')\n",
    "    user_string='+'.join(user_query)\n",
    "    return user_string\n"
   ]
  },
  {
   "cell_type": "code",
   "execution_count": 138,
   "metadata": {},
   "outputs": [],
   "source": [
    "keys=[i for i in get_keys()]\n",
    "key = keys[0:5]\n",
    "#num_of_key = 3\n",
    "#key =random.sample(keys, num_of_key)\n",
    "#print(key)"
   ]
  },
  {
   "cell_type": "code",
   "execution_count": 139,
   "metadata": {},
   "outputs": [],
   "source": [
    "#Search user_query using IMDB search tool and\n",
    "#Get the movie link to extract movie code\n",
    "\n",
    "def get_movie_code():\n",
    "    search_url = requests.get('https://www.imdb.com/find?q='+join_string('red sparrow'))\n",
    "\n",
    "    soup_search = bs(search_url.content)\n",
    "    for item in soup_search:\n",
    "        link= list(soup_search.find('td', class_=\"result_text\").a['href'][7:-1])\n",
    "        link_w = ''.join(link)\n",
    "        \n",
    "    if link_w.startswith('tt', 0, 2):\n",
    "        return link_w\n",
    "    else:\n",
    "        print('Movie not found. Try another movie title \\nEnter correct movie Title')\n",
    "\n",
    "#get_movie_code()"
   ]
  },
  {
   "cell_type": "code",
   "execution_count": 140,
   "metadata": {},
   "outputs": [],
   "source": [
    "#Getting reviews\n",
    "\n",
    "def get_review ():\n",
    "    title_ = []\n",
    "    text_ = []\n",
    "    ratings =  []\n",
    "    \n",
    "    url = 'https://www.imdb.com/title/'+get_movie_code()+'/reviews'\n",
    "    \n",
    "    review_url = requests.get(url)\n",
    "    if (review_url.status_code == 200):\n",
    "\n",
    "        soup_review = bs(review_url.content)\n",
    "\n",
    "        #print(review_url.status_code, 'Success!')\n",
    "\n",
    "        content = soup_review.find('div', class_=\"lister-list\")\n",
    "\n",
    "        for titles in content.find_all('a', class_='title'):\n",
    "            title = titles.get_text()\n",
    "            title_.append(title)\n",
    "\n",
    "        for texts  in content.find_all('div', class_=\"text show-more__control\"):\n",
    "            text = texts.get_text(separator=' ', strip=True)\n",
    "            text_.append(text)\n",
    "\n",
    "        for rating  in content.find_all('span',class_=\"rating-other-user-rating\" ):\n",
    "            rating_ = rating.get_text(separator=' ',strip=True)\n",
    "            ratings.append(rating_[0:2])\n",
    "    \n",
    "    else:\n",
    "        print('Connection timeout! \\n Try again later')\n",
    "    data = {'title': title_, 'text': text_, 'ratings': ratings}\n",
    "    return data\n",
    "\n",
    "df_1 = pd.concat([pd.Series(v, name=k) for k, v in get_review().items()], axis=1)"
   ]
  },
  {
   "cell_type": "code",
   "execution_count": 141,
   "metadata": {},
   "outputs": [],
   "source": [
    "#Getting paginated reviews\n",
    "\n",
    "def get_review_paginated ():\n",
    "    title_ = []\n",
    "    text_ = []\n",
    "    ratings =  []\n",
    "    \n",
    "    \n",
    "    for x in key:\n",
    "            url2 = 'https://www.imdb.com/title/'+get_movie_code()+'/reviews/_ajax?ref_=undefined&paginationKey='+x\n",
    "            sleep(0.2)\n",
    "            #print (url)\n",
    "            review_url2 = requests.get(url2)\n",
    "\n",
    "            soup_review2 = bs(review_url2.content)\n",
    "\n",
    "            #print(review_url.status_code, 'Success!')\n",
    "\n",
    "            content2 = soup_review2.find('div', class_=\"lister-list\") #review-container\n",
    "\n",
    "\n",
    "            for titles2 in content2.find_all('a', class_='title'):\n",
    "                title2 = titles2.get_text()\n",
    "                title_.append(title2)\n",
    "\n",
    "            for texts2  in content2.find_all('div', class_=\"text show-more__control\"):\n",
    "                text2 = texts2.get_text(separator=' ', strip=True)\n",
    "                text_.append(text2)\n",
    "\n",
    "            for rating2  in content2.find_all('span',class_=\"rating-other-user-rating\" ):\n",
    "                rating_2 = rating2.get_text(separator=' ',strip=True)\n",
    "                ratings.append(rating_2[0:2])\n",
    "                \n",
    "    data = {'title': title_, 'text': text_, 'ratings': ratings}\n",
    "    return data\n",
    "\n",
    "df_2 = pd.concat([pd.Series(v, name=k) for k, v in get_review_paginated().items()], axis=1)"
   ]
  },
  {
   "cell_type": "code",
   "execution_count": 142,
   "metadata": {
    "scrolled": true
   },
   "outputs": [
    {
     "name": "stdout",
     "output_type": "stream",
     "text": [
      "<class 'pandas.core.frame.DataFrame'>\n",
      "RangeIndex: 150 entries, 0 to 149\n",
      "Data columns (total 3 columns):\n",
      " #   Column   Non-Null Count  Dtype \n",
      "---  ------   --------------  ----- \n",
      " 0   title    150 non-null    object\n",
      " 1   text     150 non-null    object\n",
      " 2   ratings  130 non-null    object\n",
      "dtypes: object(3)\n",
      "memory usage: 3.6+ KB\n"
     ]
    }
   ],
   "source": [
    "\n",
    "main_df = pd.concat([df_1, df_2], ignore_index = True)\n",
    "main_df.info()"
   ]
  },
  {
   "cell_type": "code",
   "execution_count": 133,
   "metadata": {},
   "outputs": [
    {
     "name": "stdout",
     "output_type": "stream",
     "text": [
      "100\n"
     ]
    }
   ],
   "source": [
    "lend = len(main_df)\n",
    "print(lend)"
   ]
  },
  {
   "cell_type": "code",
   "execution_count": 143,
   "metadata": {},
   "outputs": [
    {
     "name": "stdout",
     "output_type": "stream",
     "text": [
      "<class 'pandas.core.frame.DataFrame'>\n",
      "Int64Index: 120 entries, 0 to 132\n",
      "Data columns (total 3 columns):\n",
      " #   Column   Non-Null Count  Dtype \n",
      "---  ------   --------------  ----- \n",
      " 0   title    120 non-null    object\n",
      " 1   text     120 non-null    object\n",
      " 2   ratings  120 non-null    object\n",
      "dtypes: object(3)\n",
      "memory usage: 3.8+ KB\n"
     ]
    }
   ],
   "source": [
    "main_df = main_df.dropna().drop_duplicates()\n",
    "\n",
    "main_df.info()"
   ]
  },
  {
   "cell_type": "code",
   "execution_count": 145,
   "metadata": {},
   "outputs": [
    {
     "data": {
      "text/html": [
       "<div>\n",
       "<style scoped>\n",
       "    .dataframe tbody tr th:only-of-type {\n",
       "        vertical-align: middle;\n",
       "    }\n",
       "\n",
       "    .dataframe tbody tr th {\n",
       "        vertical-align: top;\n",
       "    }\n",
       "\n",
       "    .dataframe thead th {\n",
       "        text-align: right;\n",
       "    }\n",
       "</style>\n",
       "<table border=\"1\" class=\"dataframe\">\n",
       "  <thead>\n",
       "    <tr style=\"text-align: right;\">\n",
       "      <th></th>\n",
       "      <th>title</th>\n",
       "      <th>text</th>\n",
       "      <th>ratings</th>\n",
       "    </tr>\n",
       "  </thead>\n",
       "  <tbody>\n",
       "    <tr>\n",
       "      <th>0</th>\n",
       "      <td>Flies high enough but doesn't quite soar\\n</td>\n",
       "      <td>The book, that 'Red Sparrow' is adapted from, ...</td>\n",
       "      <td>7</td>\n",
       "    </tr>\n",
       "    <tr>\n",
       "      <th>1</th>\n",
       "      <td>Interesting, but not without problems\\n</td>\n",
       "      <td>RED SPARROW is the latest Hollywood spy thrill...</td>\n",
       "      <td>6</td>\n",
       "    </tr>\n",
       "    <tr>\n",
       "      <th>2</th>\n",
       "      <td>straddling the divide\\n</td>\n",
       "      <td>Russian prima ballerina Dominika Egorova (Jenn...</td>\n",
       "      <td>6</td>\n",
       "    </tr>\n",
       "    <tr>\n",
       "      <th>3</th>\n",
       "      <td>For the easily entertained\\n</td>\n",
       "      <td>\"Red Sparrow\" is a new American movie and the ...</td>\n",
       "      <td>4</td>\n",
       "    </tr>\n",
       "    <tr>\n",
       "      <th>4</th>\n",
       "      <td>Highly Entertaining\\n</td>\n",
       "      <td>The Bolshoi ballerina Dominika Egorova (Jennif...</td>\n",
       "      <td>7</td>\n",
       "    </tr>\n",
       "  </tbody>\n",
       "</table>\n",
       "</div>"
      ],
      "text/plain": [
       "                                         title  \\\n",
       "0   Flies high enough but doesn't quite soar\\n   \n",
       "1      Interesting, but not without problems\\n   \n",
       "2                      straddling the divide\\n   \n",
       "3                 For the easily entertained\\n   \n",
       "4                        Highly Entertaining\\n   \n",
       "\n",
       "                                                text ratings  \n",
       "0  The book, that 'Red Sparrow' is adapted from, ...      7   \n",
       "1  RED SPARROW is the latest Hollywood spy thrill...      6   \n",
       "2  Russian prima ballerina Dominika Egorova (Jenn...      6   \n",
       "3  \"Red Sparrow\" is a new American movie and the ...      4   \n",
       "4  The Bolshoi ballerina Dominika Egorova (Jennif...      7   "
      ]
     },
     "execution_count": 145,
     "metadata": {},
     "output_type": "execute_result"
    }
   ],
   "source": [
    "main_df=main_df.reset_index(drop=True)\n",
    "main_df.head()"
   ]
  },
  {
   "cell_type": "code",
   "execution_count": 109,
   "metadata": {
    "collapsed": true
   },
   "outputs": [
    {
     "data": {
      "text/html": [
       "<div>\n",
       "<style scoped>\n",
       "    .dataframe tbody tr th:only-of-type {\n",
       "        vertical-align: middle;\n",
       "    }\n",
       "\n",
       "    .dataframe tbody tr th {\n",
       "        vertical-align: top;\n",
       "    }\n",
       "\n",
       "    .dataframe thead th {\n",
       "        text-align: right;\n",
       "    }\n",
       "</style>\n",
       "<table border=\"1\" class=\"dataframe\">\n",
       "  <thead>\n",
       "    <tr style=\"text-align: right;\">\n",
       "      <th></th>\n",
       "      <th>title</th>\n",
       "      <th>text</th>\n",
       "      <th>ratings</th>\n",
       "    </tr>\n",
       "  </thead>\n",
       "  <tbody>\n",
       "    <tr>\n",
       "      <th>0</th>\n",
       "      <td>Interesting, but not without problems\\n</td>\n",
       "      <td>RED SPARROW is the latest Hollywood spy thrill...</td>\n",
       "      <td>6</td>\n",
       "    </tr>\n",
       "    <tr>\n",
       "      <th>1</th>\n",
       "      <td>straddling the divide\\n</td>\n",
       "      <td>Russian prima ballerina Dominika Egorova (Jenn...</td>\n",
       "      <td>6</td>\n",
       "    </tr>\n",
       "    <tr>\n",
       "      <th>2</th>\n",
       "      <td>For the easily entertained\\n</td>\n",
       "      <td>\"Red Sparrow\" is a new American movie and the ...</td>\n",
       "      <td>4</td>\n",
       "    </tr>\n",
       "    <tr>\n",
       "      <th>3</th>\n",
       "      <td>Highly Entertaining\\n</td>\n",
       "      <td>The Bolshoi ballerina Dominika Egorova (Jennif...</td>\n",
       "      <td>7</td>\n",
       "    </tr>\n",
       "    <tr>\n",
       "      <th>4</th>\n",
       "      <td>This bird does not take off\\n</td>\n",
       "      <td>Red Sparrow highlights the continuing misogyny...</td>\n",
       "      <td>1</td>\n",
       "    </tr>\n",
       "    <tr>\n",
       "      <th>5</th>\n",
       "      <td>If you don't matter to the men in power, you ...</td>\n",
       "      <td>Dominika Egorova (Jennifer Lawrence) is a ball...</td>\n",
       "      <td>8</td>\n",
       "    </tr>\n",
       "    <tr>\n",
       "      <th>6</th>\n",
       "      <td>Not taking prisoners\\n</td>\n",
       "      <td>Or exchanging them for that matter, if that is...</td>\n",
       "      <td>8</td>\n",
       "    </tr>\n",
       "    <tr>\n",
       "      <th>7</th>\n",
       "      <td>Red Sparrow\\n</td>\n",
       "      <td>The trailer for this movie, based on a well-re...</td>\n",
       "      <td>5</td>\n",
       "    </tr>\n",
       "    <tr>\n",
       "      <th>8</th>\n",
       "      <td>A gripping and gritty spy thriller\\n</td>\n",
       "      <td>Following an accident which ends the career of...</td>\n",
       "      <td>9</td>\n",
       "    </tr>\n",
       "    <tr>\n",
       "      <th>9</th>\n",
       "      <td>Ladies are trained in Russia to be \"sparrows\"...</td>\n",
       "      <td>My wife and I watched this at home on DVD. Whi...</td>\n",
       "      <td>8</td>\n",
       "    </tr>\n",
       "    <tr>\n",
       "      <th>10</th>\n",
       "      <td>Captivating and thrilling\\n</td>\n",
       "      <td>This film tells the story of a young woman who...</td>\n",
       "      <td>4</td>\n",
       "    </tr>\n",
       "    <tr>\n",
       "      <th>11</th>\n",
       "      <td>Sex, lies and violence\\n</td>\n",
       "      <td>I more than likely wouldn't have watched this ...</td>\n",
       "      <td>6</td>\n",
       "    </tr>\n",
       "    <tr>\n",
       "      <th>12</th>\n",
       "      <td>Sparrers CAN Sing\\n</td>\n",
       "      <td>Clearly a divisive movie. I knew nothing about...</td>\n",
       "      <td>5</td>\n",
       "    </tr>\n",
       "    <tr>\n",
       "      <th>13</th>\n",
       "      <td>Decent spy-drama\\n</td>\n",
       "      <td>Ballerina Dominika Egorova's career endures a ...</td>\n",
       "      <td>7</td>\n",
       "    </tr>\n",
       "    <tr>\n",
       "      <th>14</th>\n",
       "      <td>Lukewarm Neo Cold War Thriller\\n</td>\n",
       "      <td>RED SPARROW (2018) ** Jennifer Lawrence, Joel ...</td>\n",
       "      <td>7</td>\n",
       "    </tr>\n",
       "    <tr>\n",
       "      <th>15</th>\n",
       "      <td>Savage and dour\\n</td>\n",
       "      <td>Russian ballerina Dominika suffers a career-en...</td>\n",
       "      <td>8</td>\n",
       "    </tr>\n",
       "    <tr>\n",
       "      <th>16</th>\n",
       "      <td>Sexy, Suspenseful, Satisfying\\n</td>\n",
       "      <td>This movie was very intelligently done but it ...</td>\n",
       "      <td>8</td>\n",
       "    </tr>\n",
       "    <tr>\n",
       "      <th>17</th>\n",
       "      <td>A Russian ballerina turned spy - what's not t...</td>\n",
       "      <td>J Law is good and draws you in but then goes i...</td>\n",
       "      <td>9</td>\n",
       "    </tr>\n",
       "    <tr>\n",
       "      <th>18</th>\n",
       "      <td>'The Cold War did not end, it merely shattere...</td>\n",
       "      <td>Despite the fact that the movies and televisio...</td>\n",
       "      <td>7</td>\n",
       "    </tr>\n",
       "    <tr>\n",
       "      <th>19</th>\n",
       "      <td>A gritty solid movie!\\n</td>\n",
       "      <td>Red Sparrow is one of the most non P C Hollywo...</td>\n",
       "      <td>7</td>\n",
       "    </tr>\n",
       "    <tr>\n",
       "      <th>20</th>\n",
       "      <td>Good spy movie.\\n</td>\n",
       "      <td>Why you would hate this movie is a thing I don...</td>\n",
       "      <td>5</td>\n",
       "    </tr>\n",
       "    <tr>\n",
       "      <th>21</th>\n",
       "      <td>Russian Collusion on a Grand Scale!\\n</td>\n",
       "      <td>It is clear that Americans of many stripes can...</td>\n",
       "      <td>None</td>\n",
       "    </tr>\n",
       "    <tr>\n",
       "      <th>22</th>\n",
       "      <td>Misleading marketing campaign for a straight ...</td>\n",
       "      <td>The movie was good and I think Jennifer Lawren...</td>\n",
       "      <td>None</td>\n",
       "    </tr>\n",
       "    <tr>\n",
       "      <th>23</th>\n",
       "      <td>The ultimate #metoo story, and Jennifer Lawre...</td>\n",
       "      <td>'RED SPARROW': Four Stars (Out of Five) The ne...</td>\n",
       "      <td>None</td>\n",
       "    </tr>\n",
       "    <tr>\n",
       "      <th>24</th>\n",
       "      <td>my notes\\n</td>\n",
       "      <td>Not bad. not good. generally well. good acting...</td>\n",
       "      <td>None</td>\n",
       "    </tr>\n",
       "  </tbody>\n",
       "</table>\n",
       "</div>"
      ],
      "text/plain": [
       "                                                title  \\\n",
       "0             Interesting, but not without problems\\n   \n",
       "1                             straddling the divide\\n   \n",
       "2                        For the easily entertained\\n   \n",
       "3                               Highly Entertaining\\n   \n",
       "4                       This bird does not take off\\n   \n",
       "5    If you don't matter to the men in power, you ...   \n",
       "6                              Not taking prisoners\\n   \n",
       "7                                       Red Sparrow\\n   \n",
       "8                A gripping and gritty spy thriller\\n   \n",
       "9    Ladies are trained in Russia to be \"sparrows\"...   \n",
       "10                        Captivating and thrilling\\n   \n",
       "11                           Sex, lies and violence\\n   \n",
       "12                                Sparrers CAN Sing\\n   \n",
       "13                                 Decent spy-drama\\n   \n",
       "14                   Lukewarm Neo Cold War Thriller\\n   \n",
       "15                                  Savage and dour\\n   \n",
       "16                    Sexy, Suspenseful, Satisfying\\n   \n",
       "17   A Russian ballerina turned spy - what's not t...   \n",
       "18   'The Cold War did not end, it merely shattere...   \n",
       "19                            A gritty solid movie!\\n   \n",
       "20                                  Good spy movie.\\n   \n",
       "21              Russian Collusion on a Grand Scale!\\n   \n",
       "22   Misleading marketing campaign for a straight ...   \n",
       "23   The ultimate #metoo story, and Jennifer Lawre...   \n",
       "24                                         my notes\\n   \n",
       "\n",
       "                                                 text ratings  \n",
       "0   RED SPARROW is the latest Hollywood spy thrill...      6   \n",
       "1   Russian prima ballerina Dominika Egorova (Jenn...      6   \n",
       "2   \"Red Sparrow\" is a new American movie and the ...      4   \n",
       "3   The Bolshoi ballerina Dominika Egorova (Jennif...      7   \n",
       "4   Red Sparrow highlights the continuing misogyny...      1   \n",
       "5   Dominika Egorova (Jennifer Lawrence) is a ball...      8   \n",
       "6   Or exchanging them for that matter, if that is...      8   \n",
       "7   The trailer for this movie, based on a well-re...      5   \n",
       "8   Following an accident which ends the career of...      9   \n",
       "9   My wife and I watched this at home on DVD. Whi...      8   \n",
       "10  This film tells the story of a young woman who...      4   \n",
       "11  I more than likely wouldn't have watched this ...      6   \n",
       "12  Clearly a divisive movie. I knew nothing about...      5   \n",
       "13  Ballerina Dominika Egorova's career endures a ...      7   \n",
       "14  RED SPARROW (2018) ** Jennifer Lawrence, Joel ...      7   \n",
       "15  Russian ballerina Dominika suffers a career-en...      8   \n",
       "16  This movie was very intelligently done but it ...      8   \n",
       "17  J Law is good and draws you in but then goes i...      9   \n",
       "18  Despite the fact that the movies and televisio...      7   \n",
       "19  Red Sparrow is one of the most non P C Hollywo...      7   \n",
       "20  Why you would hate this movie is a thing I don...      5   \n",
       "21  It is clear that Americans of many stripes can...    None  \n",
       "22  The movie was good and I think Jennifer Lawren...    None  \n",
       "23  'RED SPARROW': Four Stars (Out of Five) The ne...    None  \n",
       "24  Not bad. not good. generally well. good acting...    None  "
      ]
     },
     "execution_count": 109,
     "metadata": {},
     "output_type": "execute_result"
    }
   ],
   "source": [
    "#data\n",
    "#df1 = pd.DataFrame.from_dict(data)\n",
    "df1 = pd.DataFrame.from_dict(data, orient='index')\n",
    "df2 = df1.transpose()\n",
    "df2.tail(60)"
   ]
  },
  {
   "cell_type": "code",
   "execution_count": 146,
   "metadata": {},
   "outputs": [],
   "source": [
    "#Save review to file\n",
    "\n",
    "main_df.to_csv ('Red_Sparrow_review.csv', index = False, header=True)"
   ]
  },
  {
   "cell_type": "code",
   "execution_count": null,
   "metadata": {},
   "outputs": [],
   "source": []
  },
  {
   "cell_type": "markdown",
   "metadata": {},
   "source": [
    "### REVIEW EXPLORATION"
   ]
  },
  {
   "cell_type": "markdown",
   "metadata": {},
   "source": [
    "#### Data Cleaning"
   ]
  },
  {
   "cell_type": "code",
   "execution_count": null,
   "metadata": {},
   "outputs": [],
   "source": []
  },
  {
   "cell_type": "code",
   "execution_count": 2,
   "metadata": {},
   "outputs": [],
   "source": [
    "#Load the csv data\n",
    "\n",
    "data  = pd.read_csv('Red_Sparrow_review.csv')"
   ]
  },
  {
   "cell_type": "code",
   "execution_count": 3,
   "metadata": {},
   "outputs": [],
   "source": [
    "#Clean data and remove stopwords\n",
    "data.replace(r'\\n',' ', regex=True, inplace=True) #remove next line character\n",
    "#data.head()"
   ]
  },
  {
   "cell_type": "code",
   "execution_count": 4,
   "metadata": {},
   "outputs": [
    {
     "data": {
      "text/html": [
       "<div>\n",
       "<style scoped>\n",
       "    .dataframe tbody tr th:only-of-type {\n",
       "        vertical-align: middle;\n",
       "    }\n",
       "\n",
       "    .dataframe tbody tr th {\n",
       "        vertical-align: top;\n",
       "    }\n",
       "\n",
       "    .dataframe thead th {\n",
       "        text-align: right;\n",
       "    }\n",
       "</style>\n",
       "<table border=\"1\" class=\"dataframe\">\n",
       "  <thead>\n",
       "    <tr style=\"text-align: right;\">\n",
       "      <th></th>\n",
       "      <th>title</th>\n",
       "      <th>text</th>\n",
       "      <th>ratings</th>\n",
       "    </tr>\n",
       "  </thead>\n",
       "  <tbody>\n",
       "    <tr>\n",
       "      <th>0</th>\n",
       "      <td>Flies high enough but doesn't quite soar</td>\n",
       "      <td>The book, that 'Red Sparrow' is adapted from, ...</td>\n",
       "      <td>7</td>\n",
       "    </tr>\n",
       "    <tr>\n",
       "      <th>1</th>\n",
       "      <td>Interesting, but not without problems</td>\n",
       "      <td>RED SPARROW is the latest Hollywood spy thrill...</td>\n",
       "      <td>6</td>\n",
       "    </tr>\n",
       "    <tr>\n",
       "      <th>2</th>\n",
       "      <td>straddling the divide</td>\n",
       "      <td>Russian prima ballerina Dominika Egorova (Jenn...</td>\n",
       "      <td>6</td>\n",
       "    </tr>\n",
       "    <tr>\n",
       "      <th>3</th>\n",
       "      <td>For the easily entertained</td>\n",
       "      <td>\"Red Sparrow\" is a new American movie and the ...</td>\n",
       "      <td>4</td>\n",
       "    </tr>\n",
       "    <tr>\n",
       "      <th>4</th>\n",
       "      <td>Highly Entertaining</td>\n",
       "      <td>The Bolshoi ballerina Dominika Egorova (Jennif...</td>\n",
       "      <td>7</td>\n",
       "    </tr>\n",
       "  </tbody>\n",
       "</table>\n",
       "</div>"
      ],
      "text/plain": [
       "                                        title  \\\n",
       "0   Flies high enough but doesn't quite soar    \n",
       "1      Interesting, but not without problems    \n",
       "2                      straddling the divide    \n",
       "3                 For the easily entertained    \n",
       "4                        Highly Entertaining    \n",
       "\n",
       "                                                text  ratings  \n",
       "0  The book, that 'Red Sparrow' is adapted from, ...        7  \n",
       "1  RED SPARROW is the latest Hollywood spy thrill...        6  \n",
       "2  Russian prima ballerina Dominika Egorova (Jenn...        6  \n",
       "3  \"Red Sparrow\" is a new American movie and the ...        4  \n",
       "4  The Bolshoi ballerina Dominika Egorova (Jennif...        7  "
      ]
     },
     "execution_count": 4,
     "metadata": {},
     "output_type": "execute_result"
    }
   ],
   "source": [
    "test_data = data\n",
    "test_data.head()"
   ]
  },
  {
   "cell_type": "markdown",
   "metadata": {},
   "source": [
    "### Sentiment Analysis"
   ]
  },
  {
   "cell_type": "code",
   "execution_count": 9,
   "metadata": {},
   "outputs": [],
   "source": [
    "# Import required library for sentiment analysis\n",
    "import re\n",
    "from vaderSentiment.vaderSentiment import SentimentIntensityAnalyzer\n",
    "import spacy\n",
    "from spacy.lang.en.stop_words import STOP_WORDS\n",
    "from string import punctuation"
   ]
  },
  {
   "cell_type": "code",
   "execution_count": 203,
   "metadata": {},
   "outputs": [],
   "source": [
    "#Removing stop words \n",
    "\n",
    "def cleanText (word):\n",
    "    nlp = spacy.load(\"en_core_web_sm\")\n",
    "    doc = nlp(word)\n",
    "    #token_list = [token for token in doc]\n",
    "    return [token for token in doc if not token.is_stop]\n",
    "    "
   ]
  },
  {
   "cell_type": "code",
   "execution_count": null,
   "metadata": {},
   "outputs": [],
   "source": []
  },
  {
   "cell_type": "code",
   "execution_count": 7,
   "metadata": {},
   "outputs": [],
   "source": [
    "# LABEL RATING AS INTERESTING (7-10)...COOL (5-6)...OR BORING (1-4)\n",
    "def pol_label (word):\n",
    "   # score = sentiment_score(word)\n",
    "  \n",
    "    # decide sentiment as positive, negative or neutral\n",
    "    if word >= 8 :\n",
    "        return \"Interesting\"\n",
    "        \n",
    "  \n",
    "    elif word >= 5 and word < 8 :\n",
    "        return \"Cool\"\n",
    "        \n",
    "    elif word >= 3 and word < 5 :\n",
    "        return \"Not Cool\"   \n",
    "  \n",
    "    else :\n",
    "        return \"Boring\"\n",
    "\n",
    "#test_data ['polarity'] = test_data['text'].apply(lambda x: sentiment_score(x))\n",
    "\n",
    "test_data ['recommendation'] = test_data['ratings'].apply(lambda x: pol_label(x))"
   ]
  },
  {
   "cell_type": "code",
   "execution_count": 237,
   "metadata": {},
   "outputs": [
    {
     "data": {
      "text/html": [
       "<div>\n",
       "<style scoped>\n",
       "    .dataframe tbody tr th:only-of-type {\n",
       "        vertical-align: middle;\n",
       "    }\n",
       "\n",
       "    .dataframe tbody tr th {\n",
       "        vertical-align: top;\n",
       "    }\n",
       "\n",
       "    .dataframe thead th {\n",
       "        text-align: right;\n",
       "    }\n",
       "</style>\n",
       "<table border=\"1\" class=\"dataframe\">\n",
       "  <thead>\n",
       "    <tr style=\"text-align: right;\">\n",
       "      <th></th>\n",
       "      <th>title</th>\n",
       "      <th>text</th>\n",
       "      <th>ratings</th>\n",
       "      <th>recommendation</th>\n",
       "    </tr>\n",
       "  </thead>\n",
       "  <tbody>\n",
       "    <tr>\n",
       "      <th>115</th>\n",
       "      <td>For the easily entertained</td>\n",
       "      <td>\"Red Sparrow\" is a new American movie and the ...</td>\n",
       "      <td>7</td>\n",
       "      <td>Cool</td>\n",
       "    </tr>\n",
       "    <tr>\n",
       "      <th>116</th>\n",
       "      <td>Highly Entertaining</td>\n",
       "      <td>The Bolshoi ballerina Dominika Egorova (Jennif...</td>\n",
       "      <td>8</td>\n",
       "      <td>Interesting</td>\n",
       "    </tr>\n",
       "    <tr>\n",
       "      <th>117</th>\n",
       "      <td>This bird does not take off</td>\n",
       "      <td>Red Sparrow highlights the continuing misogyny...</td>\n",
       "      <td>8</td>\n",
       "      <td>Interesting</td>\n",
       "    </tr>\n",
       "    <tr>\n",
       "      <th>118</th>\n",
       "      <td>If you don't matter to the men in power, you ...</td>\n",
       "      <td>Dominika Egorova (Jennifer Lawrence) is a ball...</td>\n",
       "      <td>9</td>\n",
       "      <td>Interesting</td>\n",
       "    </tr>\n",
       "    <tr>\n",
       "      <th>119</th>\n",
       "      <td>Red Sparrow</td>\n",
       "      <td>The trailer for this movie, based on a well-re...</td>\n",
       "      <td>7</td>\n",
       "      <td>Cool</td>\n",
       "    </tr>\n",
       "  </tbody>\n",
       "</table>\n",
       "</div>"
      ],
      "text/plain": [
       "                                                 title  \\\n",
       "115                        For the easily entertained    \n",
       "116                               Highly Entertaining    \n",
       "117                       This bird does not take off    \n",
       "118   If you don't matter to the men in power, you ...   \n",
       "119                                       Red Sparrow    \n",
       "\n",
       "                                                  text  ratings recommendation  \n",
       "115  \"Red Sparrow\" is a new American movie and the ...        7           Cool  \n",
       "116  The Bolshoi ballerina Dominika Egorova (Jennif...        8    Interesting  \n",
       "117  Red Sparrow highlights the continuing misogyny...        8    Interesting  \n",
       "118  Dominika Egorova (Jennifer Lawrence) is a ball...        9    Interesting  \n",
       "119  The trailer for this movie, based on a well-re...        7           Cool  "
      ]
     },
     "execution_count": 237,
     "metadata": {},
     "output_type": "execute_result"
    }
   ],
   "source": [
    "test_data.tail()"
   ]
  },
  {
   "cell_type": "markdown",
   "metadata": {},
   "source": [
    "### Visualisation"
   ]
  },
  {
   "cell_type": "code",
   "execution_count": 5,
   "metadata": {},
   "outputs": [],
   "source": [
    "# Import the required library\n",
    "from wordcloud import WordCloud, STOPWORDS\n",
    "import seaborn as sns\n",
    "import matplotlib.pyplot as plt\n",
    "%matplotlib inline\n"
   ]
  },
  {
   "cell_type": "code",
   "execution_count": 158,
   "metadata": {},
   "outputs": [
    {
     "data": {
      "image/png": "[encoded data removed]",
      "text/plain": [
       "<Figure size 800x400 with 1 Axes>"
      ]
     },
     "metadata": {},
     "output_type": "display_data"
    }
   ],
   "source": [
    "## BAR CHART for Recommendation\n",
    "\n",
    "plt.style.use('classic')#Solarize_Light2,classicseaborn-white\n",
    "themes = sns.color_palette(\"Set2\") #choosing color...Set2husl\n",
    "\n",
    "labels = test_data[\"recommendation\"].unique()\n",
    "\n",
    "fig, ax = plt.subplots(figsize=(10,5)) \n",
    "wedges = ax.bar(x=test_data[\"recommendation\"].unique(), height=test_data[\"recommendation\"].value_counts(), width=0.8, color= themes)\n",
    "\n",
    "ax.legend(wedges, labels,\n",
    "          title=\"Recommendation\",\n",
    "          loc=\"center left\",\n",
    "          bbox_to_anchor=(1, 0, 1, 1.5))\n",
    "\n",
    "#plt.setp(autotexts, size=10)\n",
    "\n",
    "plt.xlabel(\"Recommendations\")\n",
    "plt.ylabel(\"Count\")\n",
    "plt.title(\"Recommendation base on review\")\n",
    "\n",
    "#plt.xticks(rotation=45)\n",
    "\n",
    "plt.show()"
   ]
  },
  {
   "cell_type": "code",
   "execution_count": null,
   "metadata": {},
   "outputs": [],
   "source": []
  },
  {
   "cell_type": "code",
   "execution_count": 365,
   "metadata": {},
   "outputs": [
    {
     "data": {
      "image/png": "[encoded data removed]",
      "text/plain": [
       "<Figure size 400x400 with 1 Axes>"
      ]
     },
     "metadata": {},
     "output_type": "display_data"
    }
   ],
   "source": [
    "#PIE CHART for Rating\n",
    "\n",
    "labels = test_data[\"ratings\"].unique()\n",
    "\n",
    "fig1, ax1 = plt.subplots(figsize=(5,5))\n",
    "\n",
    "colors = sns.color_palette(\"bright\") #choosing color\n",
    "\n",
    "\n",
    "\n",
    "wedges, texts, autotexts = ax1.pie(data.ratings.value_counts(), autopct='%1.1f%%',wedgeprops = { 'linewidth' : 1, 'edgecolor' : 'white' },\n",
    "        shadow=True, startangle=180, pctdistance=0.7, radius=1.0, colors=colors)\n",
    "\n",
    "ax1.legend(wedges, labels,\n",
    "          title=\"Ratings\",\n",
    "          loc=\"center left\",\n",
    "          bbox_to_anchor=(1, 0, 1, 1.5))\n",
    "\n",
    "plt.setp(autotexts, size=10, weight=\"bold\")\n",
    "\n",
    "\n",
    "ax1.axis('equal')  # Equal aspect ratio ensures that pie is drawn as a circle.\n",
    "plt.title(\"Ratings Distribution\")\n",
    "plt.show()"
   ]
  },
  {
   "cell_type": "markdown",
   "metadata": {},
   "source": [
    "##### WordCloud"
   ]
  },
  {
   "cell_type": "code",
   "execution_count": 376,
   "metadata": {},
   "outputs": [],
   "source": [
    "from wordcloud import WordCloud, STOPWORDS"
   ]
  },
  {
   "cell_type": "code",
   "execution_count": 411,
   "metadata": {},
   "outputs": [
    {
     "data": {
      "text/plain": [
       "Text(0.5, 1, 'Popular words in Title')"
      ]
     },
     "execution_count": 411,
     "metadata": {},
     "output_type": "execute_result"
    },
    {
     "data": {
      "image/png": "[encoded data removed]",
      "text/plain": [
       "<Figure size 640x480 with 1 Axes>"
      ]
     },
     "metadata": {},
     "output_type": "display_data"
    }
   ],
   "source": [
    "text = test_data['title'].values\n",
    "stopwords = set(STOPWORDS)\n",
    "stopwords.add('film thus')\n",
    "stopwords.add(\"movie\")\n",
    "stopwords.add(\"Red Sparrow\")\n",
    "stopwords.add(\"Red\")\n",
    "stopwords.add(\"Sparrow\")\n",
    "stopwords.add(\"sparrows\")\n",
    "\n",
    "wordcloud = WordCloud(width=400, height=200, max_words=25, stopwords=stopwords, random_state=20).generate(str(text).lower())\n",
    "#background_color='#30D0D0', colormap=\"Accent\",\n",
    "\n",
    "#plt.imshow(wordcloud)\n",
    "\n",
    "#plt.figure(figsize=(10, 5), facecolor='k')\n",
    "plt.axis(\"off\")\n",
    "plt.tight_layout(pad=0)\n",
    "plt.imshow(wordcloud)\n",
    "plt.title('Popular words in Title')\n",
    "\n",
    "#To save the plot as png\n",
    "#plt.savefig('wordcloud.png', facecolor='k', bbox_inches='tight')"
   ]
  },
  {
   "cell_type": "code",
   "execution_count": null,
   "metadata": {},
   "outputs": [],
   "source": []
  },
  {
   "cell_type": "markdown",
   "metadata": {},
   "source": [
    "### STREAMLIT APP"
   ]
  },
  {
   "cell_type": "code",
   "execution_count": null,
   "metadata": {},
   "outputs": [],
   "source": [
    "# Token = 10e417467c0f2e8bb5ef8f229e3e21cd388f52f38a429800"
   ]
  },
  {
   "cell_type": "code",
   "execution_count": null,
   "metadata": {},
   "outputs": [],
   "source": []
  },
  {
   "cell_type": "code",
   "execution_count": null,
   "metadata": {},
   "outputs": [],
   "source": []
  },
  {
   "cell_type": "code",
   "execution_count": null,
   "metadata": {},
   "outputs": [],
   "source": []
  },
  {
   "cell_type": "code",
   "execution_count": null,
   "metadata": {},
   "outputs": [],
   "source": []
  },
  {
   "cell_type": "code",
   "execution_count": null,
   "metadata": {},
   "outputs": [],
   "source": []
  },
  {
   "cell_type": "code",
   "execution_count": null,
   "metadata": {},
   "outputs": [],
   "source": []
  },
  {
   "cell_type": "code",
   "execution_count": null,
   "metadata": {},
   "outputs": [],
   "source": []
  }
 ],
 "metadata": {
  "kernelspec": {
   "display_name": "Python 3",
   "language": "python",
   "name": "python3"
  },
  "language_info": {
   "codemirror_mode": {
    "name": "ipython",
    "version": 3
   },
   "file_extension": ".py",
   "mimetype": "text/x-python",
   "name": "python",
   "nbconvert_exporter": "python",
   "pygments_lexer": "ipython3",
   "version": "3.7.4"
  }
 },
 "nbformat": 4,
 "nbformat_minor": 4
}
